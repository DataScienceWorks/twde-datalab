{
 "cells": [
  {
   "cell_type": "code",
   "execution_count": 1,
   "metadata": {
    "collapsed": true
   },
   "outputs": [],
   "source": [
    "\"\"\"\n",
    "This is an upgraded version of Ceshine's LGBM starter script, simply adding more\n",
    "average features and weekly average features on it.\n",
    "\"\"\"\n",
    "from datetime import date, timedelta\n",
    "\n",
    "import pandas as pd\n",
    "import numpy as np\n",
    "from sklearn.metrics import mean_squared_error"
   ]
  },
  {
   "cell_type": "code",
   "execution_count": 2,
   "metadata": {
    "collapsed": true
   },
   "outputs": [],
   "source": [
    "import boto3\n",
    "import pandas as pd\n",
    "import io\n",
    "import gzip\n",
    "s3 = boto3.resource('s3')\n",
    "bucket = 'twde-datalab'\n",
    "train_key = 'raw/train.csv'\n",
    "test_key = 'raw/test.csv'\n",
    "items_key = 'raw/items.csv'"
   ]
  },
  {
   "cell_type": "code",
   "execution_count": 4,
   "metadata": {
    "collapsed": true
   },
   "outputs": [],
   "source": [
    "dtypes = {'id':'uint32', 'item_nbr':'int32', 'store_nbr':'int8', 'unit_sales':'float32'}\n",
    "\n",
    "def get_testdf(key):\n",
    "    obj = s3.Object(bucket,key)\n",
    "    data = obj.get()['Body'].read()\n",
    "    df = pd.read_csv(io.BytesIO(data), \n",
    "                    usecols=[0, 1, 2, 3, 4],\n",
    "                    dtype={'onpromotion': bool},\n",
    "                    parse_dates=[\"date\"]\n",
    "                    ).set_index(\n",
    "                        ['store_nbr', 'item_nbr', 'date'])\n",
    "    return df\n",
    "def get_traindf(key):\n",
    "    obj = s3.Object(bucket,key)\n",
    "    data = obj.get()['Body'].read()\n",
    "    traindf = pd.read_csv(io.BytesIO(data), \n",
    "                          usecols=[1, 2, 3, 4],\n",
    "                          dtype=dtypes,\n",
    "                          parse_dates=[\"date\"],\n",
    "                          skiprows=range(1, 86672217) #Skip dates before 2016-08-01\n",
    "                          )\n",
    "    return traindf\n",
    "\n",
    "def get_itemsdf(key):\n",
    "    obj = s3.Object(bucket,key)\n",
    "    data = obj.get()['Body'].read()\n",
    "    itemsdf = pd.read_csv(io.BytesIO(data)).set_index(\"item_nbr\")\n",
    "    return itemsdf\n",
    "\n",
    "def save_s3(df, key):\n",
    "    csv_buffer = io.StringIO()\n",
    "    df.to_csv(csv_buffer, index=False)\n",
    "\n",
    "    csv_buffer.seek(0)\n",
    "    gz_buffer = io.BytesIO()\n",
    "\n",
    "    with gzip.GzipFile(mode='w', fileobj=gz_buffer) as gz_file:\n",
    "        gz_file.write(bytes(csv_buffer.getvalue(), 'utf-8'))\n",
    "\n",
    "    s3_object = s3.Object(bucket, key)\n",
    "    s3_object.put(Body=gz_buffer.getvalue())"
   ]
  },
  {
   "cell_type": "code",
   "execution_count": 5,
   "metadata": {},
   "outputs": [
    {
     "name": "stdout",
     "output_type": "stream",
     "text": [
      "(3370464, 2)\n"
     ]
    }
   ],
   "source": [
    "train = get_traindf(train_key)\n",
    "test = get_testdf(test_key)\n",
    "items = get_itemsdf(items_key)"
   ]
  },
  {
   "cell_type": "code",
   "execution_count": 6,
   "metadata": {
    "collapsed": true
   },
   "outputs": [],
   "source": [
    "train.loc[(train.unit_sales<0),'unit_sales'] = 0 # eliminate negatives\n",
    "train['unit_sales'] =  train['unit_sales'].apply(pd.np.log1p) #logarithm conversion\n",
    "train['dow'] = train['date'].dt.dayofweek"
   ]
  },
  {
   "cell_type": "code",
   "execution_count": 7,
   "metadata": {
    "collapsed": true
   },
   "outputs": [],
   "source": [
    "#Days of Week Means\n",
    "ma_dw = train[['item_nbr','store_nbr','dow','unit_sales']].groupby(\n",
    "        ['item_nbr','store_nbr','dow'])['unit_sales'].mean().to_frame('madw').reset_index()\n",
    "ma_wk = ma_dw[['item_nbr','store_nbr','madw']].groupby(\n",
    "        ['store_nbr', 'item_nbr'])['madw'].mean().to_frame('mawk').reset_index()\n",
    "\n",
    "train.drop('dow',1,inplace=True)\n",
    "\n",
    "# creating records for all items, in all stores on all dates\n",
    "# for correct calculation of daily unit sales averages.\n",
    "u_dates = train.date.unique()\n",
    "u_stores = train.store_nbr.unique()\n",
    "u_items = train.item_nbr.unique()\n",
    "train.set_index(['date', 'store_nbr', 'item_nbr'], inplace=True)\n",
    "train = train.reindex(\n",
    "    pd.MultiIndex.from_product(\n",
    "        (u_dates, u_stores, u_items),\n",
    "        names=['date','store_nbr','item_nbr']\n",
    "    )\n",
    ").reset_index()\n",
    "\n",
    "del u_dates, u_stores, u_items\n",
    "\n",
    "train.loc[:, 'unit_sales'].fillna(0, inplace=True) # fill NaNs\n",
    "lastdate = train.iloc[train.shape[0]-1].date\n",
    "\n",
    "#Moving Averages\n",
    "ma_is = train[['item_nbr','store_nbr','unit_sales']].groupby(\n",
    "        ['item_nbr','store_nbr'])['unit_sales'].mean().to_frame('mais')\n",
    "\n",
    "for i in [112,56,28,14,7,3,1]:\n",
    "    tmp = train[train.date>lastdate-timedelta(int(i))]\n",
    "    tmpg = tmp.groupby(['item_nbr','store_nbr'])['unit_sales'].mean().to_frame('mais'+str(i))\n",
    "    ma_is = ma_is.join(tmpg, how='left')\n",
    "\n",
    "del tmp,tmpg,train\n",
    "\n",
    "ma_is['mais']=ma_is.median(axis=1)\n",
    "ma_is.reset_index(inplace=True)"
   ]
  },
  {
   "cell_type": "code",
   "execution_count": 8,
   "metadata": {},
   "outputs": [
    {
     "data": {
      "text/html": [
       "<div>\n",
       "<style>\n",
       "    .dataframe thead tr:only-child th {\n",
       "        text-align: right;\n",
       "    }\n",
       "\n",
       "    .dataframe thead th {\n",
       "        text-align: left;\n",
       "    }\n",
       "\n",
       "    .dataframe tbody tr th {\n",
       "        vertical-align: top;\n",
       "    }\n",
       "</style>\n",
       "<table border=\"1\" class=\"dataframe\">\n",
       "  <thead>\n",
       "    <tr style=\"text-align: right;\">\n",
       "      <th></th>\n",
       "      <th>item_nbr</th>\n",
       "      <th>store_nbr</th>\n",
       "      <th>mais</th>\n",
       "      <th>mais112</th>\n",
       "      <th>mais56</th>\n",
       "      <th>mais28</th>\n",
       "      <th>mais14</th>\n",
       "      <th>mais7</th>\n",
       "      <th>mais3</th>\n",
       "      <th>mais1</th>\n",
       "    </tr>\n",
       "  </thead>\n",
       "  <tbody>\n",
       "    <tr>\n",
       "      <th>0</th>\n",
       "      <td>96995</td>\n",
       "      <td>1</td>\n",
       "      <td>0.126638</td>\n",
       "      <td>0.154255</td>\n",
       "      <td>0.172356</td>\n",
       "      <td>0.295202</td>\n",
       "      <td>0.334438</td>\n",
       "      <td>0.099021</td>\n",
       "      <td>0.000000</td>\n",
       "      <td>0.000000</td>\n",
       "    </tr>\n",
       "    <tr>\n",
       "      <th>1</th>\n",
       "      <td>96995</td>\n",
       "      <td>2</td>\n",
       "      <td>0.024755</td>\n",
       "      <td>0.161961</td>\n",
       "      <td>0.123776</td>\n",
       "      <td>0.049511</td>\n",
       "      <td>0.000000</td>\n",
       "      <td>0.000000</td>\n",
       "      <td>0.000000</td>\n",
       "      <td>0.000000</td>\n",
       "    </tr>\n",
       "    <tr>\n",
       "      <th>2</th>\n",
       "      <td>96995</td>\n",
       "      <td>3</td>\n",
       "      <td>0.355917</td>\n",
       "      <td>0.208903</td>\n",
       "      <td>0.286789</td>\n",
       "      <td>0.336299</td>\n",
       "      <td>0.375535</td>\n",
       "      <td>0.454008</td>\n",
       "      <td>0.462098</td>\n",
       "      <td>0.693147</td>\n",
       "    </tr>\n",
       "    <tr>\n",
       "      <th>3</th>\n",
       "      <td>96995</td>\n",
       "      <td>4</td>\n",
       "      <td>0.124828</td>\n",
       "      <td>0.093884</td>\n",
       "      <td>0.150635</td>\n",
       "      <td>0.099021</td>\n",
       "      <td>0.099021</td>\n",
       "      <td>0.198042</td>\n",
       "      <td>0.231049</td>\n",
       "      <td>0.693147</td>\n",
       "    </tr>\n",
       "    <tr>\n",
       "      <th>4</th>\n",
       "      <td>96995</td>\n",
       "      <td>5</td>\n",
       "      <td>0.118639</td>\n",
       "      <td>0.138257</td>\n",
       "      <td>0.202249</td>\n",
       "      <td>0.237278</td>\n",
       "      <td>0.099021</td>\n",
       "      <td>0.198042</td>\n",
       "      <td>0.000000</td>\n",
       "      <td>0.000000</td>\n",
       "    </tr>\n",
       "  </tbody>\n",
       "</table>\n",
       "</div>"
      ],
      "text/plain": [
       "   item_nbr  store_nbr      mais   mais112    mais56    mais28    mais14  \\\n",
       "0     96995          1  0.126638  0.154255  0.172356  0.295202  0.334438   \n",
       "1     96995          2  0.024755  0.161961  0.123776  0.049511  0.000000   \n",
       "2     96995          3  0.355917  0.208903  0.286789  0.336299  0.375535   \n",
       "3     96995          4  0.124828  0.093884  0.150635  0.099021  0.099021   \n",
       "4     96995          5  0.118639  0.138257  0.202249  0.237278  0.099021   \n",
       "\n",
       "      mais7     mais3     mais1  \n",
       "0  0.099021  0.000000  0.000000  \n",
       "1  0.000000  0.000000  0.000000  \n",
       "2  0.454008  0.462098  0.693147  \n",
       "3  0.198042  0.231049  0.693147  \n",
       "4  0.198042  0.000000  0.000000  "
      ]
     },
     "execution_count": 8,
     "metadata": {},
     "output_type": "execute_result"
    }
   ],
   "source": [
    "ma_is.head()"
   ]
  },
  {
   "cell_type": "code",
   "execution_count": null,
   "metadata": {
    "collapsed": true
   },
   "outputs": [],
   "source": [
    "ma_is.drop(list(ma_is.columns.values)[3:],1,inplace=True)"
   ]
  },
  {
   "cell_type": "code",
   "execution_count": null,
   "metadata": {
    "collapsed": true
   },
   "outputs": [],
   "source": [
    "\n",
    "#Make test features \n",
    "test['dow'] = test['date'].dt.dayofweek\n",
    "test = pd.merge(test, ma_is, how='left', on=['item_nbr','store_nbr'])\n",
    "test = pd.merge(test, ma_wk, how='left', on=['item_nbr','store_nbr'])\n",
    "test = pd.merge(test, ma_dw, how='left', on=['item_nbr','store_nbr','dow'])\n",
    "\n",
    "del ma_is, ma_wk, ma_dw\n",
    "\n",
    "#Predicting Test\n",
    "test['unit_sales'] = test.mais \n",
    "pos_idx = test['mawk'] > 0\n",
    "test_pos = test.loc[pos_idx]\n",
    "test.loc[pos_idx, 'unit_sales'] = test_pos['mais'] * test_pos['madw'] / test_pos['mawk']\n",
    "test.loc[:, \"unit_sales\"].fillna(0, inplace=True)\n",
    "test['unit_sales'] = test['unit_sales'].apply(pd.np.expm1) # restoring unit values \n",
    "\n",
    "#50% more for promotion items\n",
    "test.loc[test['onpromotion'] == True, 'unit_sales'] *= 1.5\n"
   ]
  },
  {
   "cell_type": "code",
   "execution_count": null,
   "metadata": {
    "collapsed": true
   },
   "outputs": [],
   "source": [
    "save_s3(test[['id','unit_sales']], 'submission/ma8dwof.csv.gz', index=False, float_format='%.3f', compression='gzip')"
   ]
  }
 ],
 "metadata": {
  "kernelspec": {
   "display_name": "Python 3",
   "language": "python",
   "name": "python3"
  },
  "language_info": {
   "codemirror_mode": {
    "name": "ipython",
    "version": 3
   },
   "file_extension": ".py",
   "mimetype": "text/x-python",
   "name": "python",
   "nbconvert_exporter": "python",
   "pygments_lexer": "ipython3",
   "version": "3.6.3"
  }
 },
 "nbformat": 4,
 "nbformat_minor": 2
}
