{
 "cells": [
  {
   "cell_type": "markdown",
   "metadata": {},
   "source": [
    "## Exploratory Analysis using Jupyter Notebook\n",
    "\n",
    "Notebooks for exploratory analysis are standard in the industry. A Jupyter Notebook provides you a Python3 REPL and the ability to display charts and graphs in-line. GitHub also understands how to show .ipynb files correctly.\n",
    "\n",
    "Pandas is another industry standard for data analysis. We can import it and use it to read data from our s3 bucket on AWS."
   ]
  },
  {
   "cell_type": "code",
   "execution_count": 2,
   "metadata": {},
   "outputs": [],
   "source": [
    "import pandas as pd"
   ]
  },
  {
   "cell_type": "code",
   "execution_count": 3,
   "metadata": {},
   "outputs": [],
   "source": [
    "import s3fs\n",
    "s3 = s3fs.S3FileSystem(anon=True)\n",
    "s3.ls('twde-datalab/raw')\n",
    "\n",
    "s3.get('twde-datalab/raw/quito_stores_sample2016-2017.csv', \n",
    "       '../data/quito_stores_sample2016-2017.csv')"
   ]
  },
  {
   "cell_type": "markdown",
   "metadata": {},
   "source": [
    "#### Read from local csv file to a pandas DataFrame, an incredibly powerful object"
   ]
  },
  {
   "cell_type": "code",
   "execution_count": 4,
   "metadata": {},
   "outputs": [],
   "source": [
    "data = pd.read_csv('../data/quito_stores_sample2016-2017.csv')"
   ]
  },
  {
   "cell_type": "markdown",
   "metadata": {},
   "source": [
    "#### Before anything else, let's look at a small slice of the data to see what we're working with"
   ]
  },
  {
   "cell_type": "code",
   "execution_count": 5,
   "metadata": {},
   "outputs": [
    {
     "data": {
      "text/html": [
       "<div>\n",
       "<style scoped>\n",
       "    .dataframe tbody tr th:only-of-type {\n",
       "        vertical-align: middle;\n",
       "    }\n",
       "\n",
       "    .dataframe tbody tr th {\n",
       "        vertical-align: top;\n",
       "    }\n",
       "\n",
       "    .dataframe thead th {\n",
       "        text-align: right;\n",
       "    }\n",
       "</style>\n",
       "<table border=\"1\" class=\"dataframe\">\n",
       "  <thead>\n",
       "    <tr style=\"text-align: right;\">\n",
       "      <th></th>\n",
       "      <th>id</th>\n",
       "      <th>date</th>\n",
       "      <th>store_nbr</th>\n",
       "      <th>item_nbr</th>\n",
       "      <th>unit_sales</th>\n",
       "      <th>onpromotion</th>\n",
       "      <th>city</th>\n",
       "      <th>state</th>\n",
       "      <th>cluster</th>\n",
       "    </tr>\n",
       "  </thead>\n",
       "  <tbody>\n",
       "    <tr>\n",
       "      <th>0</th>\n",
       "      <td>88211471</td>\n",
       "      <td>2016-08-16</td>\n",
       "      <td>44</td>\n",
       "      <td>103520</td>\n",
       "      <td>7.0</td>\n",
       "      <td>True</td>\n",
       "      <td>Quito</td>\n",
       "      <td>Pichincha</td>\n",
       "      <td>5</td>\n",
       "    </tr>\n",
       "    <tr>\n",
       "      <th>1</th>\n",
       "      <td>88211472</td>\n",
       "      <td>2016-08-16</td>\n",
       "      <td>44</td>\n",
       "      <td>103665</td>\n",
       "      <td>7.0</td>\n",
       "      <td>False</td>\n",
       "      <td>Quito</td>\n",
       "      <td>Pichincha</td>\n",
       "      <td>5</td>\n",
       "    </tr>\n",
       "    <tr>\n",
       "      <th>2</th>\n",
       "      <td>88211473</td>\n",
       "      <td>2016-08-16</td>\n",
       "      <td>44</td>\n",
       "      <td>105574</td>\n",
       "      <td>13.0</td>\n",
       "      <td>False</td>\n",
       "      <td>Quito</td>\n",
       "      <td>Pichincha</td>\n",
       "      <td>5</td>\n",
       "    </tr>\n",
       "    <tr>\n",
       "      <th>3</th>\n",
       "      <td>88211474</td>\n",
       "      <td>2016-08-16</td>\n",
       "      <td>44</td>\n",
       "      <td>105575</td>\n",
       "      <td>18.0</td>\n",
       "      <td>False</td>\n",
       "      <td>Quito</td>\n",
       "      <td>Pichincha</td>\n",
       "      <td>5</td>\n",
       "    </tr>\n",
       "    <tr>\n",
       "      <th>4</th>\n",
       "      <td>88211475</td>\n",
       "      <td>2016-08-16</td>\n",
       "      <td>44</td>\n",
       "      <td>105577</td>\n",
       "      <td>8.0</td>\n",
       "      <td>False</td>\n",
       "      <td>Quito</td>\n",
       "      <td>Pichincha</td>\n",
       "      <td>5</td>\n",
       "    </tr>\n",
       "  </tbody>\n",
       "</table>\n",
       "</div>"
      ],
      "text/plain": [
       "         id        date  store_nbr  item_nbr  unit_sales  onpromotion   city  \\\n",
       "0  88211471  2016-08-16         44    103520         7.0         True  Quito   \n",
       "1  88211472  2016-08-16         44    103665         7.0        False  Quito   \n",
       "2  88211473  2016-08-16         44    105574        13.0        False  Quito   \n",
       "3  88211474  2016-08-16         44    105575        18.0        False  Quito   \n",
       "4  88211475  2016-08-16         44    105577         8.0        False  Quito   \n",
       "\n",
       "       state  cluster  \n",
       "0  Pichincha        5  \n",
       "1  Pichincha        5  \n",
       "2  Pichincha        5  \n",
       "3  Pichincha        5  \n",
       "4  Pichincha        5  "
      ]
     },
     "execution_count": 5,
     "metadata": {},
     "output_type": "execute_result"
    }
   ],
   "source": [
    "data.head()"
   ]
  },
  {
   "cell_type": "markdown",
   "metadata": {},
   "source": [
    "#### With just this glimpse, you can start to fill out your list of assumptions, hypotheses, and questions. Some of mine are:\n",
    "- Question: What is the span of dates we are provided?\n",
    "- Question: How many distinct store_nbr values are there?\n",
    "- Question: How many distinct item_nbr values are there?\n",
    "- Hypothesis: unit_sales are always positive\n",
    "- Hypothesis: onpromotion is always either True or False\n",
    "- Hypothesis: city and state are always going to be Quito and Pichincha\n",
    "- Hypothesis: cluster is always 5\n",
    "- Question: What does cluster mean and is it important to know?\n",
    "- Question: How many records does the data contain?\n",
    "- Question: What other data files are available?"
   ]
  },
  {
   "cell_type": "code",
   "execution_count": 6,
   "metadata": {},
   "outputs": [
    {
     "name": "stdout",
     "output_type": "stream",
     "text": [
      "2017-08-15\n",
      "2016-08-16\n"
     ]
    }
   ],
   "source": [
    "# Access an entire dataframe column like you would\n",
    "# the value in a python dictionary:\n",
    "# (The returned object has similar pandas built-in \n",
    "# functions, like 'head' and 'max')\n",
    "print(data['date'].max())\n",
    "print(data['date'].min())"
   ]
  },
  {
   "cell_type": "code",
   "execution_count": 7,
   "metadata": {},
   "outputs": [
    {
     "data": {
      "text/plain": [
       "array([44, 45, 46, 47, 48, 49])"
      ]
     },
     "execution_count": 7,
     "metadata": {},
     "output_type": "execute_result"
    }
   ],
   "source": [
    "# Dataframe columns also have a 'unique' method,\n",
    "# which can answer several of our questions from above\n",
    "data['store_nbr'].unique()"
   ]
  },
  {
   "cell_type": "code",
   "execution_count": 8,
   "metadata": {},
   "outputs": [
    {
     "name": "stdout",
     "output_type": "stream",
     "text": [
      "[ 103520  103665  105574 ..., 2011468 2011448 2123839]\n",
      "There are too many item numbers to display, so let's just count them:\n",
      "There are 3717 different item_nbr values in our data\n"
     ]
    }
   ],
   "source": [
    "print(data['item_nbr'].unique())\n",
    "print(\"There are too many item numbers to display, so let's just count them:\")\n",
    "print(\"There are {} different item_nbr values in our data\"\n",
    "          .format(len(data['item_nbr'].unique())))"
   ]
  },
  {
   "cell_type": "markdown",
   "metadata": {},
   "source": [
    "#### It might be helpful to know the 'shape' of our data. We could count by hand (for now) the columns, but how many rows do we have altogether?"
   ]
  },
  {
   "cell_type": "code",
   "execution_count": 9,
   "metadata": {},
   "outputs": [
    {
     "name": "stdout",
     "output_type": "stream",
     "text": [
      "(5877318, 9)\n",
      "There are 5877318 rows and 9 columns in our data\n"
     ]
    }
   ],
   "source": [
    "print(data.shape)\n",
    "print(\"There are {} rows and {} columns in our data\".format(data.shape[0], data.shape[1]))"
   ]
  },
  {
   "cell_type": "markdown",
   "metadata": {},
   "source": [
    "#### Moving along to answer our intial questions... Let's have a look at unit_sales. Keep in mind that unit sales is the variable we want to predict with our science.\n",
    "\n",
    "Each row in our data is essentially telling us a `unit_sales` number for a given `item_nbr` at a given `store_nbr` on a given `date`. That is, \"how many of an item was sold at a store on a day\"."
   ]
  },
  {
   "cell_type": "code",
   "execution_count": 10,
   "metadata": {},
   "outputs": [],
   "source": [
    "# the .describe() function often ends up using scientific notation,\n",
    "# but we'll be fine just using 2 decimal places\n",
    "pd.options.display.float_format = '{:,.2f}'.format"
   ]
  },
  {
   "cell_type": "code",
   "execution_count": 11,
   "metadata": {},
   "outputs": [
    {
     "data": {
      "text/plain": [
       "count   5,877,318.00\n",
       "mean           13.85\n",
       "std            30.87\n",
       "min          -290.00\n",
       "25%             3.00\n",
       "50%             7.00\n",
       "75%            14.00\n",
       "max         6,932.00\n",
       "Name: unit_sales, dtype: float64"
      ]
     },
     "execution_count": 11,
     "metadata": {},
     "output_type": "execute_result"
    }
   ],
   "source": [
    "data.unit_sales.describe()"
   ]
  },
  {
   "cell_type": "markdown",
   "metadata": {},
   "source": [
    "### There are some strange things here.\n",
    "My list of questions and assumptions is definitely changing given this description:\n",
    "\n",
    "- Question: What does a negative sale mean?\n",
    "  - (Answer: negative sales mean returns in this data)\n",
    "- Question: How often are sales negative?\n",
    "- Question: How many times are sales above 5,000?\n",
    "- Question: How do the unit_sales numbers vary with the `date` column?\n"
   ]
  },
  {
   "cell_type": "markdown",
   "metadata": {},
   "source": [
    "#### A good way to answer these questions is with some visualizations.\n",
    "\n",
    "It might be difficult to get an intuitive feel of the data by knowing the exact answer to many of those questions. What we actually want to learn is the personality of the data. We want to know what it looks like in a glance."
   ]
  },
  {
   "cell_type": "markdown",
   "metadata": {},
   "source": [
    "### Let's import the python libraries that do the heavy lifting of data visualization"
   ]
  },
  {
   "cell_type": "code",
   "execution_count": 12,
   "metadata": {},
   "outputs": [],
   "source": [
    "%matplotlib inline\n",
    "import random\n",
    "import matplotlib.pyplot as plt\n",
    "import seaborn as sns\n"
   ]
  },
  {
   "cell_type": "markdown",
   "metadata": {},
   "source": [
    "and then let's look at a box plot of unit sales. A box plot conveys the mean and the middle 50% of the data, and things outside of that inter-quartile-range are generally considered outliers; errors in the data."
   ]
  },
  {
   "cell_type": "code",
   "execution_count": 13,
   "metadata": {},
   "outputs": [
    {
     "data": {
      "text/plain": [
       "<matplotlib.axes._subplots.AxesSubplot at 0x12950b518>"
      ]
     },
     "execution_count": 13,
     "metadata": {},
     "output_type": "execute_result"
    },
    {
     "data": {
      "image/png": "[encoded data removed]",
      "text/plain": [
       "<matplotlib.figure.Figure at 0x10eb93b70>"
      ]
     },
     "metadata": {},
     "output_type": "display_data"
    }
   ],
   "source": [
    "sns.boxplot(data.unit_sales)"
   ]
  },
  {
   "cell_type": "markdown",
   "metadata": {},
   "source": [
    "This box plot is atrocious. We can't even recognize the inter-quartile-range. *I think it's reasonable to assume there aren't errors in the data, and that these \"outliers\" are real values. Or else Favorita would have a very big accounting issue to deal with.*"
   ]
  },
  {
   "cell_type": "markdown",
   "metadata": {},
   "source": [
    "Let's look at the box plot again ignoring the sales of more than, say, 1000. We can make two new data frames and analyze them separately."
   ]
  },
  {
   "cell_type": "code",
   "execution_count": 14,
   "metadata": {},
   "outputs": [],
   "source": [
    "outliers = data[data.unit_sales > 1000]"
   ]
  },
  {
   "cell_type": "code",
   "execution_count": 15,
   "metadata": {},
   "outputs": [],
   "source": [
    "majority_of_data = data[data.unit_sales <= 1000]"
   ]
  },
  {
   "cell_type": "markdown",
   "metadata": {},
   "source": [
    "and once again look at the boxplot of the non-outlier (for lack of a better term) data"
   ]
  },
  {
   "cell_type": "code",
   "execution_count": 16,
   "metadata": {},
   "outputs": [
    {
     "data": {
      "text/plain": [
       "<matplotlib.axes._subplots.AxesSubplot at 0x12962fba8>"
      ]
     },
     "execution_count": 16,
     "metadata": {},
     "output_type": "execute_result"
    },
    {
     "data": {
      "image/png": "[encoded data removed]",
      "text/plain": [
       "<matplotlib.figure.Figure at 0x1295e9748>"
      ]
     },
     "metadata": {},
     "output_type": "display_data"
    }
   ],
   "source": [
    "sns.boxplot(majority_of_data.unit_sales)"
   ]
  },
  {
   "cell_type": "markdown",
   "metadata": {},
   "source": [
    "This is still really hard to see. Let's try a kernel density estimation plot. This will show us the probability of a data point being a certain value. We can see that the likelihood of getting a certain unit_sales value tapers off dramatically and has almost vanished by a unit_sales of 100."
   ]
  },
  {
   "cell_type": "code",
   "execution_count": 17,
   "metadata": {},
   "outputs": [
    {
     "data": {
      "text/plain": [
       "<matplotlib.axes._subplots.AxesSubplot at 0x12b596710>"
      ]
     },
     "execution_count": 17,
     "metadata": {},
     "output_type": "execute_result"
    },
    {
     "data": {
      "image/png": "[encoded data removed]",
      "text/plain": [
       "<matplotlib.figure.Figure at 0x12ac90c50>"
      ]
     },
     "metadata": {},
     "output_type": "display_data"
    }
   ],
   "source": [
    "sns.kdeplot(majority_of_data.unit_sales, clip=[-100,500])"
   ]
  },
  {
   "cell_type": "markdown",
   "metadata": {},
   "source": [
    "I'd also like to know how do sales change over time. Let's look at that with a scatter plot:"
   ]
  },
  {
   "cell_type": "markdown",
   "metadata": {},
   "source": [
    "#### First, we convert the date column into a datetime object, and set it as the index\n",
    "Then we find the weekly average of the data and plot it"
   ]
  },
  {
   "cell_type": "code",
   "execution_count": 48,
   "metadata": {},
   "outputs": [],
   "source": [
    "data.index = pd.to_datetime(data.date)"
   ]
  },
  {
   "cell_type": "code",
   "execution_count": 62,
   "metadata": {},
   "outputs": [
    {
     "data": {
      "text/plain": [
       "<matplotlib.axes._subplots.AxesSubplot at 0x257de6080>"
      ]
     },
     "execution_count": 62,
     "metadata": {},
     "output_type": "execute_result"
    },
    {
     "data": {
      "image/png": "[encoded data removed]",
      "text/plain": [
       "<matplotlib.figure.Figure at 0x258423518>"
      ]
     },
     "metadata": {},
     "output_type": "display_data"
    }
   ],
   "source": [
    "data.unit_sales.resample('W').mean().plot(x='index',y='unit_sales')"
   ]
  },
  {
   "cell_type": "markdown",
   "metadata": {},
   "source": [
    "Here we can see the Christmas effect, where the weeks towards the end and beginning of the year see much more sales activity.\n",
    "\n",
    "\n",
    "I'm curious to see if returns happen more frequently after Christmas, so I'm going to repeat the above plot, but only focusing on returns."
   ]
  },
  {
   "cell_type": "code",
   "execution_count": 68,
   "metadata": {},
   "outputs": [
    {
     "data": {
      "text/plain": [
       "<matplotlib.axes._subplots.AxesSubplot at 0x25892b780>"
      ]
     },
     "execution_count": 68,
     "metadata": {},
     "output_type": "execute_result"
    },
    {
     "data": {
      "image/png": "[encoded data removed]",
      "text/plain": [
       "<matplotlib.figure.Figure at 0x2588854a8>"
      ]
     },
     "metadata": {},
     "output_type": "display_data"
    }
   ],
   "source": [
    "data[data.unit_sales < 0].unit_sales.resample('W').mean().plot(x='index',y='unit_sales')"
   ]
  },
  {
   "cell_type": "markdown",
   "metadata": {},
   "source": [
    "This graph is surprising to me. Is it surprising to you? I still strongly suspect that returns happen at a statistically significantly different rate after Christmas, given that purchases spike around Dec-Jan anyway.  My next thought is about those outliers. Maybe `mean` isn't the right measurement to use, since means can be skewed by outliers. \n",
    "\n",
    "Let's see the same graph as above, only this time using `median` as the measurement. "
   ]
  },
  {
   "cell_type": "code",
   "execution_count": 69,
   "metadata": {},
   "outputs": [
    {
     "data": {
      "text/plain": [
       "<matplotlib.axes._subplots.AxesSubplot at 0x2587b4198>"
      ]
     },
     "execution_count": 69,
     "metadata": {},
     "output_type": "execute_result"
    },
    {
     "data": {
      "image/png": "[encoded data removed]",
      "text/plain": [
       "<matplotlib.figure.Figure at 0x259347cc0>"
      ]
     },
     "metadata": {},
     "output_type": "display_data"
    }
   ],
   "source": [
    "data[data.unit_sales < 0].unit_sales.resample('W').median().plot(x='index',y='unit_sales')"
   ]
  },
  {
   "cell_type": "markdown",
   "metadata": {},
   "source": [
    "There we go. Look at that. When we use a statistic that is robust to outliers, we can see that return behavior is very different around Christmas. What we take away from this is: If we're to predict sales and returns for the end of December and beginning of January, our model should incorporate the effect of Christmas on sales. Perhaps it'd be useful to add columns called, `is_two_weeks_before_christmas` and `is_two_weeks_after_christmas`. \n",
    "\n",
    "I'm guessing about \"two weeks\" but maybe you, dear reader, would like to contribute an `.ipynb` file to this repository where you explore Christmas shopping behavior across all 4 years and tell us what features we should consider and why."
   ]
  },
  {
   "cell_type": "markdown",
   "metadata": {},
   "source": [
    "## An Abrupt Conclusion\n",
    "I've walked you through a piece of the data exploration process. If I were to write this document again, it would go in a different direction. This is in many ways an art --- you will gain an intuition the more you do it. \n",
    "\n",
    "So, go do it. We want this `analysis` folder to be filled with notebooks showing exporatory analysis about different features and datasets. We expect to see evidence of exploratory analysis before incorporating new features and code into our algorithms. "
   ]
  },
  {
   "cell_type": "code",
   "execution_count": null,
   "metadata": {},
   "outputs": [],
   "source": []
  },
  {
   "cell_type": "code",
   "execution_count": null,
   "metadata": {},
   "outputs": [],
   "source": []
  }
 ],
 "metadata": {
  "kernelspec": {
   "display_name": "Python 3",
   "language": "python",
   "name": "python3"
  },
  "language_info": {
   "codemirror_mode": {
    "name": "ipython",
    "version": 3
   },
   "file_extension": ".py",
   "mimetype": "text/x-python",
   "name": "python",
   "nbconvert_exporter": "python",
   "pygments_lexer": "ipython3",
   "version": "3.6.3"
  }
 },
 "nbformat": 4,
 "nbformat_minor": 2
}
