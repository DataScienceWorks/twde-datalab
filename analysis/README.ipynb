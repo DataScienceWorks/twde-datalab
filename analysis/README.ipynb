{
 "cells": [
  {
   "cell_type": "markdown",
   "metadata": {},
   "source": [
    "# Exploratory Analysis with Jupyter Notebook\n",
    "-----------\n",
    "\n",
    "One major difference between the software development process you're used to and the process you'll use doing data science is the **scientific process** part of it.\n",
    "\n",
    "From the onset, we can't know exactly what sort of product we're going to build or how we'll use the algorithms we end up using. The data is a huge source of uncertainty and until we poke and prod it, we'll be painting in the dark.\n",
    "\n",
    "### Asking relevant questions\n",
    "The dataset for this project is sales data for a grocery store in Ecuador. We've reduced the dimensionality of the data so it can be quickly analyzed on most people's laptop computers, but there should still be enough data to make meaningful inquery and make accurate predictions.\n",
    "\n",
    "\n"
   ]
  },
  {
   "cell_type": "code",
   "execution_count": null,
   "metadata": {},
   "outputs": [],
   "source": []
  },
  {
   "cell_type": "code",
   "execution_count": null,
   "metadata": {},
   "outputs": [],
   "source": []
  }
 ],
 "metadata": {
  "kernelspec": {
   "display_name": "Python 3",
   "language": "python",
   "name": "python3"
  },
  "language_info": {
   "codemirror_mode": {
    "name": "ipython",
    "version": 3
   },
   "file_extension": ".py",
   "mimetype": "text/x-python",
   "name": "python",
   "nbconvert_exporter": "python",
   "pygments_lexer": "ipython3",
   "version": "3.6.3"
  }
 },
 "nbformat": 4,
 "nbformat_minor": 2
}
