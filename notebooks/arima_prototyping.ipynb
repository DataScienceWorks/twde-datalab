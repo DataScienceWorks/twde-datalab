{
 "cells": [
  {
   "cell_type": "code",
   "execution_count": 26,
   "metadata": {},
   "outputs": [],
   "source": [
    "import warnings\n",
    "warnings.filterwarnings(\"ignore\")\n",
    "\n",
    "# DATA MANIPULATION\n",
    "import numpy as np # linear algebra\n",
    "import random as rd # generating random numbers\n",
    "import pandas as pd # data processing, CSV file I/O (e.g. pd.read_csv)\n",
    "import datetime # manipulating date formats\n",
    "from operator import add # elementwise addition\n",
    "\n",
    "# VIZUALIZATION\n",
    "import matplotlib.pyplot as plt # basic plotting\n",
    "import seaborn # for prettier plots\n",
    "\n",
    "# UNSUPERVISED LEARNING\n",
    "from sklearn.cluster import AgglomerativeClustering as AggClust # Hierarchical Clustering\n",
    "from scipy.cluster.hierarchy import ward,dendrogram # Hierarchical Clustering + Dendograms\n",
    "\n",
    "# TIME SERIES\n",
    "from statsmodels.tsa.arima_model import ARIMA\n",
    "from statsmodels.tsa.statespace.sarimax import SARIMAX\n",
    "from pandas.plotting import autocorrelation_plot\n",
    "from statsmodels.tsa.stattools import adfuller, acf, pacf,arma_order_select_ic\n"
   ]
  },
  {
   "cell_type": "code",
   "execution_count": 28,
   "metadata": {},
   "outputs": [],
   "source": [
    "# Reading daily transfers per store\n",
    "sales=pd.read_csv('../input/transactions.csv')\n",
    "\n",
    "# Reading store list\n",
    "stores=pd.read_csv('../input/stores.csv')\n",
    "stores.type=stores.type.astype('category')\n",
    "\n",
    "# Adding information about the stores\n",
    "sales=pd.merge(sales,stores,how='left')\n",
    "\n",
    "# Reading the holiday and events schedule\n",
    "holidays=pd.read_csv('../input/holidays_events.csv')\n",
    "\n",
    "# Formatting the dates properly\n",
    "sales['date']=sales.date.apply(lambda x:datetime.datetime.strptime(x, '%Y-%m-%d'))\n",
    "holidays['date']=holidays.date.apply(lambda x:datetime.datetime.strptime(x, '%Y-%m-%d'))\n",
    "\n",
    "# Isolating events that do not correspond to holidays\n",
    "events=holidays.loc[holidays.type=='Event']\n",
    "holidays=holidays.loc[holidays.type!='Event']\n",
    "\n",
    "# Extracting year, week and day\n",
    "sales['year'],sales['week'],sales['day']=list(zip(*sales.date.apply(lambda x: x.isocalendar())))\n",
    "\n",
    "# Creating a categorical variable showing weekends\n",
    "sales['dayoff']=[x in [6,7] for x in sales.day]\n",
    "\n",
    "# Adjusting this variable to show all holidays\n",
    "for (d,t,l,n) in zip(holidays.date,holidays.type,holidays.locale,holidays.locale_name):\n",
    "  if t!='Work Day':\n",
    "    if l=='National':\n",
    "      sales.loc[sales.date==d,'dayoff']=True\n",
    "    elif l=='Regional':\n",
    "      sales.loc[(sales.date==d)&(sales.state==n),'dayoff']=True\n",
    "    else:\n",
    "      sales.loc[(sales.date==d)&(sales.city==n),'dayoff']=True\n",
    "  else:\n",
    "    sales.loc[(sales.date==d),'dayoff']=False"
   ]
  },
  {
   "cell_type": "code",
   "execution_count": 34,
   "metadata": {},
   "outputs": [],
   "source": [
    "ts=sales.loc[sales['store_nbr']==47,['date','transactions']].set_index('date')\n",
    "ts=ts.transactions.astype('float')\n",
    "plt.figure(figsize=(12,12))\n",
    "plt.title('Daily transactions in store #47')\n",
    "plt.xlabel('time')\n",
    "plt.ylabel('Number of transactions')\n",
    "plt.plot(ts);"
   ]
  },
  {
   "cell_type": "code",
   "execution_count": 35,
   "metadata": {},
   "outputs": [],
   "source": [
    "plt.figure(figsize=(12,12))\n",
    "plt.plot(ts.rolling(window=30,center=False).mean(),label='Rolling Mean');\n",
    "plt.plot(ts.rolling(window=30,center=False).std(),label='Rolling sd');\n",
    "plt.legend();"
   ]
  },
  {
   "cell_type": "code",
   "execution_count": 36,
   "metadata": {},
   "outputs": [
    {
     "name": "stdout",
     "output_type": "stream",
     "text": [
      "Results of Dickey-Fuller Test:\n",
      "Test Statistic                -7.069388e+00\n",
      "p-value                        4.982766e-10\n",
      "#Lags Used                     2.200000e+01\n",
      "Number of Observations Used    1.654000e+03\n",
      "Critical Value (1%)           -3.434310e+00\n",
      "Critical Value (5%)           -2.863289e+00\n",
      "Critical Value (10%)          -2.567701e+00\n",
      "dtype: float64\n"
     ]
    }
   ],
   "source": [
    "def test_stationarity(timeseries):\n",
    "    \n",
    "    #Perform Dickey-Fuller test:\n",
    "    print('Results of Dickey-Fuller Test:')\n",
    "    dftest = adfuller(timeseries, autolag='AIC')\n",
    "    dfoutput = pd.Series(dftest[0:4], index=['Test Statistic','p-value','#Lags Used','Number of Observations Used'])\n",
    "    for key,value in dftest[4].items():\n",
    "        dfoutput['Critical Value (%s)'%key] = value\n",
    "    print (dfoutput)\n",
    "\n",
    "test_stationarity(ts)"
   ]
  },
  {
   "cell_type": "code",
   "execution_count": 37,
   "metadata": {},
   "outputs": [],
   "source": [
    "plt.figure(figsize=(12,6))\n",
    "autocorrelation_plot(ts);\n",
    "plt.figure(figsize=(12,6))\n",
    "autocorrelation_plot(ts);\n",
    "plt.xlim(xmax=100);\n",
    "plt.figure(figsize=(12,6))\n",
    "autocorrelation_plot(ts);\n",
    "plt.xlim(xmax=10);"
   ]
  },
  {
   "cell_type": "code",
   "execution_count": 38,
   "metadata": {},
   "outputs": [
    {
     "name": "stdout",
     "output_type": "stream",
     "text": [
      "The bic prescribes these (p,q) parameters : (10, 4)\n",
      "The aic prescribes these (p,q) parameters : (10, 7)\n"
     ]
    }
   ],
   "source": [
    "result = arma_order_select_ic(ts,max_ar=10, max_ma=10, ic=['aic','bic'], trend='c', fit_kw=dict(method='css',maxiter=500))\n",
    "print('The bic prescribes these (p,q) parameters : {}'.format(result.bic_min_order))\n",
    "print('The aic prescribes these (p,q) parameters : {}'.format(result.aic_min_order))\n",
    "plt.figure(figsize=(12,6))\n",
    "plt.subplot(1,2,1)\n",
    "plt.title('bic results')\n",
    "seaborn.heatmap(result.bic);\n",
    "plt.subplot(1,2,2)\n",
    "plt.title('aic results')\n",
    "seaborn.heatmap(result.aic);"
   ]
  },
  {
   "cell_type": "code",
   "execution_count": 39,
   "metadata": {},
   "outputs": [
    {
     "data": {
      "text/html": [
       "<div>\n",
       "<style scoped>\n",
       "    .dataframe tbody tr th:only-of-type {\n",
       "        vertical-align: middle;\n",
       "    }\n",
       "\n",
       "    .dataframe tbody tr th {\n",
       "        vertical-align: top;\n",
       "    }\n",
       "\n",
       "    .dataframe thead th {\n",
       "        text-align: right;\n",
       "    }\n",
       "</style>\n",
       "<table border=\"1\" class=\"dataframe\">\n",
       "  <thead>\n",
       "    <tr style=\"text-align: right;\">\n",
       "      <th></th>\n",
       "      <th>count</th>\n",
       "      <th>mean</th>\n",
       "      <th>std</th>\n",
       "      <th>min</th>\n",
       "      <th>25%</th>\n",
       "      <th>50%</th>\n",
       "      <th>75%</th>\n",
       "      <th>max</th>\n",
       "    </tr>\n",
       "  </thead>\n",
       "  <tbody>\n",
       "    <tr>\n",
       "      <th>0</th>\n",
       "      <td>1672.0</td>\n",
       "      <td>0.115749</td>\n",
       "      <td>359.768524</td>\n",
       "      <td>-2751.667551</td>\n",
       "      <td>-183.544339</td>\n",
       "      <td>-22.44322</td>\n",
       "      <td>162.925738</td>\n",
       "      <td>2588.585383</td>\n",
       "    </tr>\n",
       "  </tbody>\n",
       "</table>\n",
       "</div>"
      ],
      "text/plain": [
       "    count      mean         std          min         25%       50%  \\\n",
       "0  1672.0  0.115749  359.768524 -2751.667551 -183.544339 -22.44322   \n",
       "\n",
       "          75%          max  \n",
       "0  162.925738  2588.585383  "
      ]
     },
     "execution_count": 39,
     "metadata": {},
     "output_type": "execute_result"
    }
   ],
   "source": [
    "pdq=(5,0,5)\n",
    "model = ARIMA(ts, order = pdq, freq='W')\n",
    "model_fit = model.fit(disp=False,method='css',maxiter=100)\n",
    "# plot residual errors\n",
    "residuals = pd.DataFrame(model_fit.resid)\n",
    "fig,axes = plt.subplots(nrows=1, ncols=2,figsize=(12,6))\n",
    "residuals.plot(ax=axes[0])\n",
    "residuals.plot(kind='kde',ax=axes[1]);\n",
    "residuals.describe().T"
   ]
  },
  {
   "cell_type": "code",
   "execution_count": 40,
   "metadata": {
    "collapsed": true
   },
   "outputs": [],
   "source": [
    "plt.figure(figsize=(12,6))\n",
    "plt.subplot\n",
    "plt.plot(ts);\n",
    "plt.plot(model_fit.fittedvalues,alpha=.7);"
   ]
  },
  {
   "cell_type": "code",
   "execution_count": 41,
   "metadata": {},
   "outputs": [
    {
     "name": "stdout",
     "output_type": "stream",
     "text": [
      "Starting the ARIMA predictions...\n",
      "\n",
      "\n",
      "Predictions finished.\n",
      "\n"
     ]
    }
   ],
   "source": [
    "forecast_len=30\n",
    "size = int(len(ts)-forecast_len)\n",
    "train, test = ts[0:size], ts[size:len(ts)]\n",
    "history = [x for x in train]\n",
    "predictions = list()\n",
    "\n",
    "print('Starting the ARIMA predictions...')\n",
    "print('\\n')\n",
    "for t in range(len(test)):\n",
    "    model = ARIMA(history, order = pdq, freq='W');\n",
    "    model_fit = model.fit(disp=0);\n",
    "    output = model_fit.forecast()\n",
    "    yhat = output[0]\n",
    "    predictions.append(float(yhat))\n",
    "    obs = test[t]\n",
    "    history.append(obs)\n",
    "print('Predictions finished.\\n')\n",
    "    \n",
    "\n",
    "predictions_series = pd.Series(predictions, index = test.index)"
   ]
  },
  {
   "cell_type": "code",
   "execution_count": 42,
   "metadata": {},
   "outputs": [
    {
     "data": {
      "text/plain": [
       "date\n",
       "2017-07-17    3610.773826\n",
       "2017-07-18    3535.357786\n",
       "2017-07-19    3518.011392\n",
       "2017-07-20    3335.090030\n",
       "2017-07-21    3910.240834\n",
       "dtype: float64"
      ]
     },
     "execution_count": 42,
     "metadata": {},
     "output_type": "execute_result"
    }
   ],
   "source": [
    "predictions_series.head()"
   ]
  },
  {
   "cell_type": "code",
   "execution_count": null,
   "metadata": {
    "collapsed": true
   },
   "outputs": [],
   "source": []
  }
 ],
 "metadata": {
  "kernelspec": {
   "display_name": "Python 3",
   "language": "python",
   "name": "python3"
  },
  "language_info": {
   "codemirror_mode": {
    "name": "ipython",
    "version": 3
   },
   "file_extension": ".py",
   "mimetype": "text/x-python",
   "name": "python",
   "nbconvert_exporter": "python",
   "pygments_lexer": "ipython3",
   "version": "3.6.3"
  }
 },
 "nbformat": 4,
 "nbformat_minor": 2
}
