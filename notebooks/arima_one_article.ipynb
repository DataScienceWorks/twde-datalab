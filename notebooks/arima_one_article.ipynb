{
 "cells": [
  {
   "cell_type": "code",
   "execution_count": 68,
   "metadata": {
    "collapsed": true
   },
   "outputs": [],
   "source": [
    "import warnings\n",
    "warnings.filterwarnings(\"ignore\")\n",
    "\n",
    "# DATA MANIPULATION\n",
    "import numpy as np # linear algebra\n",
    "import random as rd # generating random numbers\n",
    "import pandas as pd # data processing, CSV file I/O (e.g. pd.read_csv)\n",
    "import datetime # manipulating date formats\n",
    "from operator import add # elementwise addition\n",
    "\n",
    "# VIZUALIZATION\n",
    "import matplotlib.pyplot as plt # basic plotting\n",
    "import seaborn # for prettier plots\n",
    "\n",
    "# TIME SERIES\n",
    "from statsmodels.tsa.arima_model import ARIMA\n",
    "from statsmodels.tsa.statespace.sarimax import SARIMAX\n",
    "from statsmodels.tsa.stattools import adfuller, acf, pacf,arma_order_select_ic"
   ]
  },
  {
   "cell_type": "code",
   "execution_count": 42,
   "metadata": {
    "collapsed": true
   },
   "outputs": [],
   "source": [
    "train=pd.read_csv('../input/train.csv')\n",
    "train['date']=train.date.apply(lambda x:datetime.datetime.strptime(x, '%Y-%m-%d'))"
   ]
  },
  {
   "cell_type": "code",
   "execution_count": 41,
   "metadata": {},
   "outputs": [],
   "source": [
    "test=pd.read_csv('../input/test.csv')\n",
    "test['date']=test.date.apply(lambda x:datetime.datetime.strptime(x, '%Y-%m-%d'))"
   ]
  },
  {
   "cell_type": "code",
   "execution_count": 53,
   "metadata": {},
   "outputs": [],
   "source": [
    "ts=train.loc[(train['store_nbr']==47) & (train['item_nbr']==1503844),['date','unit_sales']].set_index('date')"
   ]
  },
  {
   "cell_type": "code",
   "execution_count": 57,
   "metadata": {},
   "outputs": [
    {
     "data": {
      "text/html": [
       "<div>\n",
       "<style scoped>\n",
       "    .dataframe tbody tr th:only-of-type {\n",
       "        vertical-align: middle;\n",
       "    }\n",
       "\n",
       "    .dataframe tbody tr th {\n",
       "        vertical-align: top;\n",
       "    }\n",
       "\n",
       "    .dataframe thead th {\n",
       "        text-align: right;\n",
       "    }\n",
       "</style>\n",
       "<table border=\"1\" class=\"dataframe\">\n",
       "  <thead>\n",
       "    <tr style=\"text-align: right;\">\n",
       "      <th></th>\n",
       "      <th>unit_sales</th>\n",
       "    </tr>\n",
       "    <tr>\n",
       "      <th>date</th>\n",
       "      <th></th>\n",
       "    </tr>\n",
       "  </thead>\n",
       "  <tbody>\n",
       "    <tr>\n",
       "      <th>2016-08-16</th>\n",
       "      <td>266.480</td>\n",
       "    </tr>\n",
       "    <tr>\n",
       "      <th>2016-08-17</th>\n",
       "      <td>397.368</td>\n",
       "    </tr>\n",
       "    <tr>\n",
       "      <th>2016-08-18</th>\n",
       "      <td>252.541</td>\n",
       "    </tr>\n",
       "    <tr>\n",
       "      <th>2016-08-19</th>\n",
       "      <td>220.316</td>\n",
       "    </tr>\n",
       "    <tr>\n",
       "      <th>2016-08-20</th>\n",
       "      <td>337.980</td>\n",
       "    </tr>\n",
       "  </tbody>\n",
       "</table>\n",
       "</div>"
      ],
      "text/plain": [
       "            unit_sales\n",
       "date                  \n",
       "2016-08-16     266.480\n",
       "2016-08-17     397.368\n",
       "2016-08-18     252.541\n",
       "2016-08-19     220.316\n",
       "2016-08-20     337.980"
      ]
     },
     "execution_count": 57,
     "metadata": {},
     "output_type": "execute_result"
    }
   ],
   "source": [
    "ts.head()"
   ]
  },
  {
   "cell_type": "code",
   "execution_count": 47,
   "metadata": {
    "collapsed": true
   },
   "outputs": [],
   "source": [
    "ts_test=test.loc[(train['store_nbr']==47) & (train['item_nbr']==1503844),['date','unit_sales']].set_index('date')"
   ]
  },
  {
   "cell_type": "code",
   "execution_count": 61,
   "metadata": {},
   "outputs": [],
   "source": [
    "ts_test=ts_test.unit_sales.astype('float')"
   ]
  },
  {
   "cell_type": "code",
   "execution_count": 58,
   "metadata": {},
   "outputs": [],
   "source": [
    "ts=ts.unit_sales.astype('float')"
   ]
  },
  {
   "cell_type": "code",
   "execution_count": 59,
   "metadata": {},
   "outputs": [
    {
     "name": "stdout",
     "output_type": "stream",
     "text": [
      "Results of Dickey-Fuller Test:\n",
      "Test Statistic                  -4.558891\n",
      "p-value                          0.000154\n",
      "#Lags Used                      14.000000\n",
      "Number of Observations Used    327.000000\n",
      "Critical Value (1%)             -3.450507\n",
      "Critical Value (5%)             -2.870420\n",
      "Critical Value (10%)            -2.571501\n",
      "dtype: float64\n"
     ]
    }
   ],
   "source": [
    "def test_stationarity(timeseries):\n",
    "    \n",
    "    #Perform Dickey-Fuller test:\n",
    "    print('Results of Dickey-Fuller Test:')\n",
    "    dftest = adfuller(timeseries, autolag='AIC')\n",
    "    dfoutput = pd.Series(dftest[0:4], index=['Test Statistic','p-value','#Lags Used','Number of Observations Used'])\n",
    "    for key,value in dftest[4].items():\n",
    "        dfoutput['Critical Value (%s)'%key] = value\n",
    "    print (dfoutput)\n",
    "\n",
    "test_stationarity(ts)"
   ]
  },
  {
   "cell_type": "code",
   "execution_count": 69,
   "metadata": {},
   "outputs": [
    {
     "name": "stdout",
     "output_type": "stream",
     "text": [
      "The bic prescribes these (p,q) parameters : (10, 2)\n",
      "The aic prescribes these (p,q) parameters : (9, 10)\n"
     ]
    }
   ],
   "source": [
    "result = arma_order_select_ic(ts,max_ar=10, max_ma=10, ic=['aic','bic'], trend='c', fit_kw=dict(method='css',maxiter=500))\n",
    "print('The bic prescribes these (p,q) parameters : {}'.format(result.bic_min_order))\n",
    "print('The aic prescribes these (p,q) parameters : {}'.format(result.aic_min_order))\n",
    "plt.figure(figsize=(12,6))\n",
    "plt.subplot(1,2,1)\n",
    "plt.title('bic results')\n",
    "seaborn.heatmap(result.bic);\n",
    "plt.subplot(1,2,2)\n",
    "plt.title('aic results')\n",
    "seaborn.heatmap(result.aic);"
   ]
  },
  {
   "cell_type": "code",
   "execution_count": 70,
   "metadata": {},
   "outputs": [],
   "source": [
    "pdq=(4,0,4)\n",
    "model = ARIMA(ts, order = pdq, freq='W')\n",
    "model_fit = model.fit(disp=False,method='css',maxiter=100)"
   ]
  },
  {
   "cell_type": "code",
   "execution_count": 71,
   "metadata": {},
   "outputs": [
    {
     "name": "stdout",
     "output_type": "stream",
     "text": [
      "Starting the ARIMA predictions...\n",
      "\n",
      "\n",
      "all good...\n",
      "all good...\n",
      "all good...\n",
      "all good...\n",
      "all good...\n",
      "all good...\n",
      "all good...\n",
      "all good...\n",
      "all good...\n",
      "all good...\n",
      "all good...\n",
      "all good...\n",
      "all good...\n",
      "all good...\n",
      "all good...\n",
      "all good...\n",
      "all good...\n",
      "Predictions finished.\n",
      "\n"
     ]
    }
   ],
   "source": [
    "history = [x for x in ts]\n",
    "predictions = list()\n",
    "\n",
    "print('Starting the ARIMA predictions...')\n",
    "print('\\n')\n",
    "for t in range(len(ts_test)):\n",
    "    try:\n",
    "        model = ARIMA(history, order = pdq, freq='W');\n",
    "        model_fit = model.fit(disp=0);\n",
    "        output = model_fit.forecast()\n",
    "        yhat = output[0]\n",
    "        predictions.append(float(yhat))\n",
    "        obs = ts_test[t]\n",
    "        history.append(obs)\n",
    "        print('all good...')\n",
    "    except:\n",
    "        print('caught exception: passing')\n",
    "        pass\n",
    "print('Predictions finished.\\n')\n",
    "    \n",
    "predictions_series = pd.Series(predictions, index = ts_test.index)"
   ]
  },
  {
   "cell_type": "code",
   "execution_count": 72,
   "metadata": {},
   "outputs": [
    {
     "data": {
      "text/plain": [
       "date\n",
       "2017-07-26    377.388617\n",
       "2017-07-27    349.442754\n",
       "2017-07-28    218.644509\n",
       "2017-07-29    321.448092\n",
       "2017-07-30    475.795349\n",
       "dtype: float64"
      ]
     },
     "execution_count": 72,
     "metadata": {},
     "output_type": "execute_result"
    }
   ],
   "source": [
    "predictions_series.head()"
   ]
  },
  {
   "cell_type": "code",
   "execution_count": 73,
   "metadata": {
    "collapsed": true
   },
   "outputs": [],
   "source": [
    "predictions_series.to_csv('predictions.csv')"
   ]
  },
  {
   "cell_type": "code",
   "execution_count": null,
   "metadata": {
    "collapsed": true
   },
   "outputs": [],
   "source": []
  }
 ],
 "metadata": {
  "kernelspec": {
   "display_name": "Python 3",
   "language": "python",
   "name": "python3"
  },
  "language_info": {
   "codemirror_mode": {
    "name": "ipython",
    "version": 3
   },
   "file_extension": ".py",
   "mimetype": "text/x-python",
   "name": "python",
   "nbconvert_exporter": "python",
   "pygments_lexer": "ipython3",
   "version": "3.6.3"
  }
 },
 "nbformat": 4,
 "nbformat_minor": 2
}
